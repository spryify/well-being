{
 "cells": [
  {
   "cell_type": "code",
   "execution_count": 1,
   "metadata": {
    "collapsed": false
   },
   "outputs": [],
   "source": [
    "import pandas as pd\n",
    "import datetime\n",
    "import numpy as np\n",
    "import seaborn as sns\n",
    "import csv\n",
    "%matplotlib inline\n",
    "current_palette = sns.color_palette()"
   ]
  },
  {
   "cell_type": "markdown",
   "metadata": {},
   "source": [
    "### Data from coach.me app"
   ]
  },
  {
   "cell_type": "code",
   "execution_count": 2,
   "metadata": {
    "collapsed": false
   },
   "outputs": [
    {
     "data": {
      "text/html": [
       "<div>\n",
       "<table border=\"1\" class=\"dataframe\">\n",
       "  <thead>\n",
       "    <tr style=\"text-align: right;\">\n",
       "      <th></th>\n",
       "      <th>Id</th>\n",
       "      <th>Habit</th>\n",
       "      <th>Date</th>\n",
       "      <th>Note</th>\n",
       "      <th>Check In Count</th>\n",
       "      <th>Days in Streak</th>\n",
       "      <th>Prop Count</th>\n",
       "      <th>Comment Count</th>\n",
       "      <th>URL</th>\n",
       "    </tr>\n",
       "  </thead>\n",
       "  <tbody>\n",
       "    <tr>\n",
       "      <th>0</th>\n",
       "      <td>52275873</td>\n",
       "      <td>No watching TV</td>\n",
       "      <td>2016-01-12</td>\n",
       "      <td>NaN</td>\n",
       "      <td>4</td>\n",
       "      <td>1</td>\n",
       "      <td>0</td>\n",
       "      <td>0</td>\n",
       "      <td>https://www.coach.me/c/52275873</td>\n",
       "    </tr>\n",
       "    <tr>\n",
       "      <th>1</th>\n",
       "      <td>52275335</td>\n",
       "      <td>Wake Up By 8 AM</td>\n",
       "      <td>2016-01-13</td>\n",
       "      <td>NaN</td>\n",
       "      <td>53</td>\n",
       "      <td>1</td>\n",
       "      <td>0</td>\n",
       "      <td>0</td>\n",
       "      <td>https://www.coach.me/c/52275335</td>\n",
       "    </tr>\n",
       "    <tr>\n",
       "      <th>2</th>\n",
       "      <td>52289070</td>\n",
       "      <td>Exercise</td>\n",
       "      <td>2016-01-13</td>\n",
       "      <td>Strength training at the gym</td>\n",
       "      <td>111</td>\n",
       "      <td>1</td>\n",
       "      <td>0</td>\n",
       "      <td>0</td>\n",
       "      <td>https://www.coach.me/c/52289070</td>\n",
       "    </tr>\n",
       "    <tr>\n",
       "      <th>3</th>\n",
       "      <td>52364521</td>\n",
       "      <td>No watching TV</td>\n",
       "      <td>2016-01-15</td>\n",
       "      <td>NaN</td>\n",
       "      <td>4</td>\n",
       "      <td>1</td>\n",
       "      <td>0</td>\n",
       "      <td>0</td>\n",
       "      <td>https://www.coach.me/c/52364521</td>\n",
       "    </tr>\n",
       "    <tr>\n",
       "      <th>4</th>\n",
       "      <td>52364522</td>\n",
       "      <td>Wake Up By 8 AM</td>\n",
       "      <td>2016-01-15</td>\n",
       "      <td>NaN</td>\n",
       "      <td>53</td>\n",
       "      <td>1</td>\n",
       "      <td>0</td>\n",
       "      <td>0</td>\n",
       "      <td>https://www.coach.me/c/52364522</td>\n",
       "    </tr>\n",
       "  </tbody>\n",
       "</table>\n",
       "</div>"
      ],
      "text/plain": [
       "         Id            Habit        Date                          Note  \\\n",
       "0  52275873   No watching TV  2016-01-12                           NaN   \n",
       "1  52275335  Wake Up By 8 AM  2016-01-13                           NaN   \n",
       "2  52289070         Exercise  2016-01-13  Strength training at the gym   \n",
       "3  52364521   No watching TV  2016-01-15                           NaN   \n",
       "4  52364522  Wake Up By 8 AM  2016-01-15                           NaN   \n",
       "\n",
       "   Check In Count  Days in Streak  Prop Count  Comment Count  \\\n",
       "0               4               1           0              0   \n",
       "1              53               1           0              0   \n",
       "2             111               1           0              0   \n",
       "3               4               1           0              0   \n",
       "4              53               1           0              0   \n",
       "\n",
       "                               URL  \n",
       "0  https://www.coach.me/c/52275873  \n",
       "1  https://www.coach.me/c/52275335  \n",
       "2  https://www.coach.me/c/52289070  \n",
       "3  https://www.coach.me/c/52364521  \n",
       "4  https://www.coach.me/c/52364522  "
      ]
     },
     "execution_count": 2,
     "metadata": {},
     "output_type": "execute_result"
    }
   ],
   "source": [
    "coachme_df = pd.read_csv('data/coach.me.export.20170331213146.csv')\n",
    "coachme_df.head()"
   ]
  },
  {
   "cell_type": "code",
   "execution_count": 3,
   "metadata": {
    "collapsed": false
   },
   "outputs": [
    {
     "data": {
      "text/html": [
       "<div>\n",
       "<table border=\"1\" class=\"dataframe\">\n",
       "  <thead>\n",
       "    <tr style=\"text-align: right;\">\n",
       "      <th></th>\n",
       "      <th>Habit</th>\n",
       "      <th>Date</th>\n",
       "      <th>Note</th>\n",
       "      <th>Days in Streak</th>\n",
       "    </tr>\n",
       "  </thead>\n",
       "  <tbody>\n",
       "    <tr>\n",
       "      <th>0</th>\n",
       "      <td>No watching TV</td>\n",
       "      <td>2016-01-12</td>\n",
       "      <td>NaN</td>\n",
       "      <td>1</td>\n",
       "    </tr>\n",
       "    <tr>\n",
       "      <th>1</th>\n",
       "      <td>Wake Up By 8 AM</td>\n",
       "      <td>2016-01-13</td>\n",
       "      <td>NaN</td>\n",
       "      <td>1</td>\n",
       "    </tr>\n",
       "    <tr>\n",
       "      <th>2</th>\n",
       "      <td>Exercise</td>\n",
       "      <td>2016-01-13</td>\n",
       "      <td>Strength training at the gym</td>\n",
       "      <td>1</td>\n",
       "    </tr>\n",
       "    <tr>\n",
       "      <th>3</th>\n",
       "      <td>No watching TV</td>\n",
       "      <td>2016-01-15</td>\n",
       "      <td>NaN</td>\n",
       "      <td>1</td>\n",
       "    </tr>\n",
       "    <tr>\n",
       "      <th>4</th>\n",
       "      <td>Wake Up By 8 AM</td>\n",
       "      <td>2016-01-15</td>\n",
       "      <td>NaN</td>\n",
       "      <td>1</td>\n",
       "    </tr>\n",
       "  </tbody>\n",
       "</table>\n",
       "</div>"
      ],
      "text/plain": [
       "             Habit        Date                          Note  Days in Streak\n",
       "0   No watching TV  2016-01-12                           NaN               1\n",
       "1  Wake Up By 8 AM  2016-01-13                           NaN               1\n",
       "2         Exercise  2016-01-13  Strength training at the gym               1\n",
       "3   No watching TV  2016-01-15                           NaN               1\n",
       "4  Wake Up By 8 AM  2016-01-15                           NaN               1"
      ]
     },
     "execution_count": 3,
     "metadata": {},
     "output_type": "execute_result"
    }
   ],
   "source": [
    "coachme_df.drop(['Id', 'Check In Count', 'Prop Count', 'Comment Count', 'URL'], axis=1, inplace=True)\n",
    "coachme_df.head()"
   ]
  },
  {
   "cell_type": "markdown",
   "metadata": {},
   "source": [
    "Let's only look at data for the year 2016"
   ]
  },
  {
   "cell_type": "code",
   "execution_count": 4,
   "metadata": {
    "collapsed": true
   },
   "outputs": [],
   "source": [
    "coachme_df['Date'] = coachme_df['Date'].astype('datetime64[ns]')\n",
    "coachme_df.set_index('Date', inplace=True)"
   ]
  },
  {
   "cell_type": "code",
   "execution_count": 5,
   "metadata": {
    "collapsed": false
   },
   "outputs": [
    {
     "data": {
      "text/html": [
       "<div>\n",
       "<table border=\"1\" class=\"dataframe\">\n",
       "  <thead>\n",
       "    <tr style=\"text-align: right;\">\n",
       "      <th></th>\n",
       "      <th>Habit</th>\n",
       "      <th>Note</th>\n",
       "      <th>Days in Streak</th>\n",
       "    </tr>\n",
       "    <tr>\n",
       "      <th>Date</th>\n",
       "      <th></th>\n",
       "      <th></th>\n",
       "      <th></th>\n",
       "    </tr>\n",
       "  </thead>\n",
       "  <tbody>\n",
       "    <tr>\n",
       "      <th>2016-01-12</th>\n",
       "      <td>No watching TV</td>\n",
       "      <td>NaN</td>\n",
       "      <td>1</td>\n",
       "    </tr>\n",
       "    <tr>\n",
       "      <th>2016-01-13</th>\n",
       "      <td>Wake Up By 8 AM</td>\n",
       "      <td>NaN</td>\n",
       "      <td>1</td>\n",
       "    </tr>\n",
       "    <tr>\n",
       "      <th>2016-01-13</th>\n",
       "      <td>Exercise</td>\n",
       "      <td>Strength training at the gym</td>\n",
       "      <td>1</td>\n",
       "    </tr>\n",
       "  </tbody>\n",
       "</table>\n",
       "</div>"
      ],
      "text/plain": [
       "                      Habit                          Note  Days in Streak\n",
       "Date                                                                     \n",
       "2016-01-12   No watching TV                           NaN               1\n",
       "2016-01-13  Wake Up By 8 AM                           NaN               1\n",
       "2016-01-13         Exercise  Strength training at the gym               1"
      ]
     },
     "execution_count": 5,
     "metadata": {},
     "output_type": "execute_result"
    }
   ],
   "source": [
    "coachme_2016_df = coachme_df[coachme_df.index.year == 2016]\n",
    "coachme_2016_df.head(3)"
   ]
  },
  {
   "cell_type": "markdown",
   "metadata": {},
   "source": [
    "The most reliable habit data here is the Exercise data."
   ]
  },
  {
   "cell_type": "markdown",
   "metadata": {},
   "source": [
    "Next, I logged my fitness activities on other apps too: Runkeeper and Fitbit.\n",
    "Let me import 2016 data from Runkeeper first."
   ]
  },
  {
   "cell_type": "markdown",
   "metadata": {},
   "source": [
    "### Data from Runkeeper"
   ]
  },
  {
   "cell_type": "code",
   "execution_count": 6,
   "metadata": {
    "collapsed": false,
    "scrolled": true
   },
   "outputs": [
    {
     "data": {
      "text/html": [
       "<div>\n",
       "<table border=\"1\" class=\"dataframe\">\n",
       "  <thead>\n",
       "    <tr style=\"text-align: right;\">\n",
       "      <th></th>\n",
       "      <th>Type</th>\n",
       "      <th>Route Name</th>\n",
       "      <th>Distance (mi)</th>\n",
       "      <th>Duration</th>\n",
       "      <th>Average Pace</th>\n",
       "      <th>Average Speed (mph)</th>\n",
       "      <th>Calories Burned</th>\n",
       "      <th>Climb (ft)</th>\n",
       "      <th>Average Heart Rate (bpm)</th>\n",
       "      <th>Notes</th>\n",
       "      <th>GPX File</th>\n",
       "    </tr>\n",
       "    <tr>\n",
       "      <th>Date</th>\n",
       "      <th></th>\n",
       "      <th></th>\n",
       "      <th></th>\n",
       "      <th></th>\n",
       "      <th></th>\n",
       "      <th></th>\n",
       "      <th></th>\n",
       "      <th></th>\n",
       "      <th></th>\n",
       "      <th></th>\n",
       "      <th></th>\n",
       "    </tr>\n",
       "  </thead>\n",
       "  <tbody>\n",
       "    <tr>\n",
       "      <th>2016-09-24</th>\n",
       "      <td>Running</td>\n",
       "      <td>NaN</td>\n",
       "      <td>2.42</td>\n",
       "      <td>31:46</td>\n",
       "      <td>13:08</td>\n",
       "      <td>4.57</td>\n",
       "      <td>225.0</td>\n",
       "      <td>99</td>\n",
       "      <td>NaN</td>\n",
       "      <td>NaN</td>\n",
       "      <td>2016-09-24-0853.gpx</td>\n",
       "    </tr>\n",
       "    <tr>\n",
       "      <th>2016-09-11</th>\n",
       "      <td>Running</td>\n",
       "      <td>NaN</td>\n",
       "      <td>1.85</td>\n",
       "      <td>26:16</td>\n",
       "      <td>14:12</td>\n",
       "      <td>4.23</td>\n",
       "      <td>158.0</td>\n",
       "      <td>7</td>\n",
       "      <td>NaN</td>\n",
       "      <td>NaN</td>\n",
       "      <td>2016-09-11-1909.gpx</td>\n",
       "    </tr>\n",
       "    <tr>\n",
       "      <th>2016-09-05</th>\n",
       "      <td>Hiking</td>\n",
       "      <td>NaN</td>\n",
       "      <td>7.58</td>\n",
       "      <td>3:06:39</td>\n",
       "      <td>24:37</td>\n",
       "      <td>2.44</td>\n",
       "      <td>754.0</td>\n",
       "      <td>278</td>\n",
       "      <td>NaN</td>\n",
       "      <td>NaN</td>\n",
       "      <td>2016-09-05-1117.gpx</td>\n",
       "    </tr>\n",
       "    <tr>\n",
       "      <th>2016-09-03</th>\n",
       "      <td>Running</td>\n",
       "      <td>NaN</td>\n",
       "      <td>1.23</td>\n",
       "      <td>16:47</td>\n",
       "      <td>13:38</td>\n",
       "      <td>4.40</td>\n",
       "      <td>113.0</td>\n",
       "      <td>53</td>\n",
       "      <td>NaN</td>\n",
       "      <td>NaN</td>\n",
       "      <td>2016-09-03-0935.gpx</td>\n",
       "    </tr>\n",
       "    <tr>\n",
       "      <th>2016-09-03</th>\n",
       "      <td>Running</td>\n",
       "      <td>NaN</td>\n",
       "      <td>0.00</td>\n",
       "      <td>8:24</td>\n",
       "      <td>NaN</td>\n",
       "      <td>NaN</td>\n",
       "      <td>0.0</td>\n",
       "      <td>0</td>\n",
       "      <td>NaN</td>\n",
       "      <td>NaN</td>\n",
       "      <td>NaN</td>\n",
       "    </tr>\n",
       "  </tbody>\n",
       "</table>\n",
       "</div>"
      ],
      "text/plain": [
       "               Type  Route Name  Distance (mi) Duration Average Pace  \\\n",
       "Date                                                                   \n",
       "2016-09-24  Running         NaN           2.42    31:46        13:08   \n",
       "2016-09-11  Running         NaN           1.85    26:16        14:12   \n",
       "2016-09-05   Hiking         NaN           7.58  3:06:39        24:37   \n",
       "2016-09-03  Running         NaN           1.23    16:47        13:38   \n",
       "2016-09-03  Running         NaN           0.00     8:24          NaN   \n",
       "\n",
       "            Average Speed (mph)  Calories Burned  Climb (ft)  \\\n",
       "Date                                                           \n",
       "2016-09-24                 4.57            225.0          99   \n",
       "2016-09-11                 4.23            158.0           7   \n",
       "2016-09-05                 2.44            754.0         278   \n",
       "2016-09-03                 4.40            113.0          53   \n",
       "2016-09-03                  NaN              0.0           0   \n",
       "\n",
       "            Average Heart Rate (bpm) Notes             GPX File  \n",
       "Date                                                             \n",
       "2016-09-24                       NaN   NaN  2016-09-24-0853.gpx  \n",
       "2016-09-11                       NaN   NaN  2016-09-11-1909.gpx  \n",
       "2016-09-05                       NaN   NaN  2016-09-05-1117.gpx  \n",
       "2016-09-03                       NaN   NaN  2016-09-03-0935.gpx  \n",
       "2016-09-03                       NaN   NaN                  NaN  "
      ]
     },
     "execution_count": 6,
     "metadata": {},
     "output_type": "execute_result"
    }
   ],
   "source": [
    "runkeeper_df = pd.read_csv('data/runkeeper-cardioActivities.csv')\n",
    "runkeeper_df['Date'] = runkeeper_df['Date'].astype('M8[D]')\n",
    "runkeeper_df.set_index('Date', inplace=True)\n",
    "runkeeper_df.head()"
   ]
  },
  {
   "cell_type": "markdown",
   "metadata": {},
   "source": [
    "For now, I am only going to retain the Type column."
   ]
  },
  {
   "cell_type": "code",
   "execution_count": 7,
   "metadata": {
    "collapsed": false
   },
   "outputs": [
    {
     "data": {
      "text/html": [
       "<div>\n",
       "<table border=\"1\" class=\"dataframe\">\n",
       "  <thead>\n",
       "    <tr style=\"text-align: right;\">\n",
       "      <th></th>\n",
       "      <th>Type</th>\n",
       "    </tr>\n",
       "    <tr>\n",
       "      <th>Date</th>\n",
       "      <th></th>\n",
       "    </tr>\n",
       "  </thead>\n",
       "  <tbody>\n",
       "    <tr>\n",
       "      <th>2016-09-24</th>\n",
       "      <td>Running</td>\n",
       "    </tr>\n",
       "    <tr>\n",
       "      <th>2016-09-11</th>\n",
       "      <td>Running</td>\n",
       "    </tr>\n",
       "    <tr>\n",
       "      <th>2016-09-05</th>\n",
       "      <td>Hiking</td>\n",
       "    </tr>\n",
       "    <tr>\n",
       "      <th>2016-09-03</th>\n",
       "      <td>Running</td>\n",
       "    </tr>\n",
       "    <tr>\n",
       "      <th>2016-07-04</th>\n",
       "      <td>Hiking</td>\n",
       "    </tr>\n",
       "  </tbody>\n",
       "</table>\n",
       "</div>"
      ],
      "text/plain": [
       "               Type\n",
       "Date               \n",
       "2016-09-24  Running\n",
       "2016-09-11  Running\n",
       "2016-09-05   Hiking\n",
       "2016-09-03  Running\n",
       "2016-07-04   Hiking"
      ]
     },
     "execution_count": 7,
     "metadata": {},
     "output_type": "execute_result"
    }
   ],
   "source": [
    "runkeeper_df = pd.DataFrame(runkeeper_df.Type)\n",
    "runkeeper_df = runkeeper_df[~runkeeper_df.index.duplicated()]\n",
    "runkeeper_df.head()"
   ]
  },
  {
   "cell_type": "code",
   "execution_count": 8,
   "metadata": {
    "collapsed": false,
    "scrolled": true
   },
   "outputs": [
    {
     "data": {
      "text/html": [
       "<div>\n",
       "<table border=\"1\" class=\"dataframe\">\n",
       "  <thead>\n",
       "    <tr style=\"text-align: right;\">\n",
       "      <th></th>\n",
       "      <th>Type</th>\n",
       "    </tr>\n",
       "    <tr>\n",
       "      <th>Date</th>\n",
       "      <th></th>\n",
       "    </tr>\n",
       "  </thead>\n",
       "  <tbody>\n",
       "    <tr>\n",
       "      <th>2016-01-13</th>\n",
       "      <td>Strength training at the gym</td>\n",
       "    </tr>\n",
       "    <tr>\n",
       "      <th>2016-01-17</th>\n",
       "      <td>Not specified</td>\n",
       "    </tr>\n",
       "    <tr>\n",
       "      <th>2016-01-20</th>\n",
       "      <td>Strength training at gym</td>\n",
       "    </tr>\n",
       "    <tr>\n",
       "      <th>2016-01-22</th>\n",
       "      <td>Dance cardio workout</td>\n",
       "    </tr>\n",
       "    <tr>\n",
       "      <th>2016-01-23</th>\n",
       "      <td>Ab workout at home</td>\n",
       "    </tr>\n",
       "  </tbody>\n",
       "</table>\n",
       "</div>"
      ],
      "text/plain": [
       "                                    Type\n",
       "Date                                    \n",
       "2016-01-13  Strength training at the gym\n",
       "2016-01-17                 Not specified\n",
       "2016-01-20      Strength training at gym\n",
       "2016-01-22          Dance cardio workout\n",
       "2016-01-23            Ab workout at home"
      ]
     },
     "execution_count": 8,
     "metadata": {},
     "output_type": "execute_result"
    }
   ],
   "source": [
    "exercise_df = coachme_2016_df[coachme_2016_df.Habit == 'Exercise'].copy()\n",
    "exercise_df.drop(['Habit','Days in Streak'], axis=1, inplace=True)\n",
    "exercise_df.rename(columns={'Note': 'Type'}, inplace=True)\n",
    "exercise_df.Type.replace(np.nan, 'Not specified', inplace=True)\n",
    "exercise_df.head()"
   ]
  },
  {
   "cell_type": "markdown",
   "metadata": {},
   "source": [
    "Did I log any workouts on both apps?"
   ]
  },
  {
   "cell_type": "code",
   "execution_count": 9,
   "metadata": {
    "collapsed": false,
    "scrolled": true
   },
   "outputs": [
    {
     "data": {
      "text/html": [
       "<div>\n",
       "<table border=\"1\" class=\"dataframe\">\n",
       "  <thead>\n",
       "    <tr style=\"text-align: right;\">\n",
       "      <th></th>\n",
       "      <th>Type_x</th>\n",
       "      <th>Type_y</th>\n",
       "    </tr>\n",
       "    <tr>\n",
       "      <th>Date</th>\n",
       "      <th></th>\n",
       "      <th></th>\n",
       "    </tr>\n",
       "  </thead>\n",
       "  <tbody>\n",
       "    <tr>\n",
       "      <th>2016-06-26</th>\n",
       "      <td>3 mile run</td>\n",
       "      <td>Running</td>\n",
       "    </tr>\n",
       "    <tr>\n",
       "      <th>2016-06-10</th>\n",
       "      <td>2.5 mile run</td>\n",
       "      <td>Running</td>\n",
       "    </tr>\n",
       "    <tr>\n",
       "      <th>2016-06-05</th>\n",
       "      <td>Morning run</td>\n",
       "      <td>Running</td>\n",
       "    </tr>\n",
       "  </tbody>\n",
       "</table>\n",
       "</div>"
      ],
      "text/plain": [
       "                  Type_x   Type_y\n",
       "Date                             \n",
       "2016-06-26    3 mile run  Running\n",
       "2016-06-10  2.5 mile run  Running\n",
       "2016-06-05   Morning run  Running"
      ]
     },
     "execution_count": 9,
     "metadata": {},
     "output_type": "execute_result"
    }
   ],
   "source": [
    "common_rows = pd.merge(exercise_df, runkeeper_df, how='inner', left_index=True, right_index=True)\n",
    "common_rows"
   ]
  },
  {
   "cell_type": "markdown",
   "metadata": {},
   "source": [
    "Okay, so it looks like I logged three running workouts on both apps. I should remove the duplicate records."
   ]
  },
  {
   "cell_type": "code",
   "execution_count": 10,
   "metadata": {
    "collapsed": false
   },
   "outputs": [
    {
     "data": {
      "text/html": [
       "<div>\n",
       "<table border=\"1\" class=\"dataframe\">\n",
       "  <thead>\n",
       "    <tr style=\"text-align: right;\">\n",
       "      <th></th>\n",
       "      <th>Type</th>\n",
       "    </tr>\n",
       "    <tr>\n",
       "      <th>Date</th>\n",
       "      <th></th>\n",
       "    </tr>\n",
       "  </thead>\n",
       "  <tbody>\n",
       "    <tr>\n",
       "      <th>2016-07-04</th>\n",
       "      <td>Hiking</td>\n",
       "    </tr>\n",
       "    <tr>\n",
       "      <th>2016-06-26</th>\n",
       "      <td>Running</td>\n",
       "    </tr>\n",
       "    <tr>\n",
       "      <th>2016-06-12</th>\n",
       "      <td>Running</td>\n",
       "    </tr>\n",
       "    <tr>\n",
       "      <th>2016-06-10</th>\n",
       "      <td>Running</td>\n",
       "    </tr>\n",
       "    <tr>\n",
       "      <th>2016-06-05</th>\n",
       "      <td>Running</td>\n",
       "    </tr>\n",
       "  </tbody>\n",
       "</table>\n",
       "</div>"
      ],
      "text/plain": [
       "               Type\n",
       "Date               \n",
       "2016-07-04   Hiking\n",
       "2016-06-26  Running\n",
       "2016-06-12  Running\n",
       "2016-06-10  Running\n",
       "2016-06-05  Running"
      ]
     },
     "execution_count": 10,
     "metadata": {},
     "output_type": "execute_result"
    }
   ],
   "source": [
    "exercise_df = pd.concat([exercise_df, runkeeper_df], join='inner')\n",
    "exercise_df.tail()"
   ]
  },
  {
   "cell_type": "code",
   "execution_count": 11,
   "metadata": {
    "collapsed": false
   },
   "outputs": [
    {
     "data": {
      "text/plain": [
       "77"
      ]
     },
     "execution_count": 11,
     "metadata": {},
     "output_type": "execute_result"
    }
   ],
   "source": [
    "exercise_df.Type.count()"
   ]
  },
  {
   "cell_type": "markdown",
   "metadata": {},
   "source": [
    "Now, let me remove any duplicate entries on both apps for the same day."
   ]
  },
  {
   "cell_type": "code",
   "execution_count": 12,
   "metadata": {
    "collapsed": false,
    "scrolled": true
   },
   "outputs": [
    {
     "data": {
      "text/plain": [
       "Type    74\n",
       "dtype: int64"
      ]
     },
     "execution_count": 12,
     "metadata": {},
     "output_type": "execute_result"
    }
   ],
   "source": [
    "exercise_df = exercise_df[~exercise_df.index.duplicated()]\n",
    "exercise_df.count()"
   ]
  },
  {
   "cell_type": "markdown",
   "metadata": {},
   "source": [
    "Great, so that removed those 3 duplicate entries.\n",
    "\n",
    "\n",
    "So it looks like I logged my exercise routines 74 times in 2016. Ignoring the two weeks of vacation in 2016, that comes to an average of 1.48 times per week. Note to self: need to get this number above 2 in 2017."
   ]
  },
  {
   "cell_type": "code",
   "execution_count": 13,
   "metadata": {
    "collapsed": false
   },
   "outputs": [
    {
     "data": {
      "text/plain": [
       "January       8\n",
       "February      6\n",
       "March        10\n",
       "April         2\n",
       "May           7\n",
       "June         13\n",
       "July          8\n",
       "August        5\n",
       "September     9\n",
       "October       3\n",
       "November      3\n",
       "dtype: int64"
      ]
     },
     "execution_count": 13,
     "metadata": {},
     "output_type": "execute_result"
    }
   ],
   "source": [
    "ex_by_month = exercise_df.groupby(exercise_df.index.month).size()\n",
    "ex_by_month.rename(index=lambda x: datetime.datetime.strptime(str(x), '%m').strftime('%B'), inplace=True)\n",
    "ex_by_month"
   ]
  },
  {
   "cell_type": "code",
   "execution_count": 14,
   "metadata": {
    "collapsed": false,
    "scrolled": true
   },
   "outputs": [
    {
     "data": {
      "text/plain": [
       "<matplotlib.axes._subplots.AxesSubplot at 0x4504ce0cf8>"
      ]
     },
     "execution_count": 14,
     "metadata": {},
     "output_type": "execute_result"
    },
    {
     "data": {
      "image/png": "[encoded data removed]",
      "text/plain": [
       "<matplotlib.figure.Figure at 0x4504cd06d8>"
      ]
     },
     "metadata": {},
     "output_type": "display_data"
    }
   ],
   "source": [
    "ex_by_month.plot(title='Exercise check-ins by month', kind='bar')"
   ]
  },
  {
   "cell_type": "markdown",
   "metadata": {},
   "source": [
    "March and June were the best months for exercise. I logged no exercise in December(!) and just 2 days in April, which was the month of our 10-day vacation in Cambodia. \n",
    "\n",
    "I need to motivate myself to exercise indoors during the winter months and to not let a vacation throw the schedule so out of whack. October and November were also low-points, when work was heavy."
   ]
  },
  {
   "cell_type": "code",
   "execution_count": 15,
   "metadata": {
    "collapsed": false
   },
   "outputs": [
    {
     "data": {
      "text/plain": [
       "Monday       30\n",
       "Wednesday    29\n",
       "Thursday      2\n",
       "Friday        4\n",
       "Saturday      3\n",
       "Sunday        6\n",
       "dtype: int64"
      ]
     },
     "execution_count": 15,
     "metadata": {},
     "output_type": "execute_result"
    }
   ],
   "source": [
    "ex_by_day = exercise_df.groupby(exercise_df.index.dayofweek + 1).size() # Add 1 to account for dayofweek starting from 0\n",
    "ex_by_day.rename(index=lambda x: datetime.datetime.strptime(str(x), '%d').strftime('%A'), inplace=True)\n",
    "ex_by_day"
   ]
  },
  {
   "cell_type": "code",
   "execution_count": 16,
   "metadata": {
    "collapsed": false
   },
   "outputs": [
    {
     "data": {
      "text/plain": [
       "<matplotlib.axes._subplots.AxesSubplot at 0x4505137208>"
      ]
     },
     "execution_count": 16,
     "metadata": {},
     "output_type": "execute_result"
    },
    {
     "data": {
      "image/png": "[encoded data removed]",
      "text/plain": [
       "<matplotlib.figure.Figure at 0x4505125ac8>"
      ]
     },
     "metadata": {},
     "output_type": "display_data"
    }
   ],
   "source": [
    "ex_by_day.plot(title='Exercise check-ins by day of the week', kind='bar')"
   ]
  },
  {
   "cell_type": "markdown",
   "metadata": {},
   "source": [
    "As expected, most of my exercise check-ins were on Mondays and Wednesdays, i.e. the days of the strength class at my gym.\n",
    "\n",
    "What did I do the rest of the days?"
   ]
  },
  {
   "cell_type": "code",
   "execution_count": 17,
   "metadata": {
    "collapsed": false
   },
   "outputs": [
    {
     "data": {
      "text/plain": [
       "Not specified                                                      39\n",
       "Strength class                                                     15\n",
       "Running                                                             4\n",
       "Yoga class                                                          2\n",
       "Hiking                                                              2\n",
       "Core strength class                                                 1\n",
       "Strength training class                                             1\n",
       "Strength class. Can do about 4 push ups now.. Slowly improving.     1\n",
       "3 mile run                                                          1\n",
       "Class                                                               1\n",
       "Ab workout at home                                                  1\n",
       "Strength training at the gym                                        1\n",
       "Yoga at the gym                                                     1\n",
       "Strength training at gym                                            1\n",
       "Morning run                                                         1\n",
       "2.5 mile run                                                        1\n",
       "Dance cardio workout                                                1\n",
       "Name: Type, dtype: int64"
      ]
     },
     "execution_count": 17,
     "metadata": {},
     "output_type": "execute_result"
    }
   ],
   "source": [
    "exercise_df.Type.value_counts()"
   ]
  },
  {
   "cell_type": "markdown",
   "metadata": {},
   "source": [
    "Okay, I clearly need a system to log the type of workout - there are so many duplicates here. And most of the time, I do not specify the type of workout."
   ]
  },
  {
   "cell_type": "markdown",
   "metadata": {},
   "source": [
    "Also, I received a Fitbit as a birthday gift last July! So let me export my data from Fitbit, starting from August."
   ]
  },
  {
   "cell_type": "markdown",
   "metadata": {},
   "source": [
    "### Data from Fitbit"
   ]
  },
  {
   "cell_type": "code",
   "execution_count": 18,
   "metadata": {
    "collapsed": false
   },
   "outputs": [
    {
     "data": {
      "text/html": [
       "<div>\n",
       "<table border=\"1\" class=\"dataframe\">\n",
       "  <thead>\n",
       "    <tr style=\"text-align: right;\">\n",
       "      <th></th>\n",
       "      <th>Date</th>\n",
       "      <th>Calories Burned</th>\n",
       "      <th>Steps</th>\n",
       "      <th>Distance</th>\n",
       "      <th>Floors</th>\n",
       "      <th>Minutes Sedentary</th>\n",
       "      <th>Minutes Lightly Active</th>\n",
       "      <th>Minutes Fairly Active</th>\n",
       "      <th>Minutes Very Active</th>\n",
       "      <th>Activity Calories</th>\n",
       "    </tr>\n",
       "  </thead>\n",
       "  <tbody>\n",
       "    <tr>\n",
       "      <th>0</th>\n",
       "      <td>2016-11-01</td>\n",
       "      <td>1563.0</td>\n",
       "      <td>2991.0</td>\n",
       "      <td>1.27</td>\n",
       "      <td>7.0</td>\n",
       "      <td>1440.0</td>\n",
       "      <td>0.0</td>\n",
       "      <td>0.0</td>\n",
       "      <td>0.0</td>\n",
       "      <td>0.0</td>\n",
       "    </tr>\n",
       "    <tr>\n",
       "      <th>1</th>\n",
       "      <td>2016-11-02</td>\n",
       "      <td>1690.0</td>\n",
       "      <td>4022.0</td>\n",
       "      <td>1.70</td>\n",
       "      <td>4.0</td>\n",
       "      <td>1440.0</td>\n",
       "      <td>0.0</td>\n",
       "      <td>0.0</td>\n",
       "      <td>0.0</td>\n",
       "      <td>0.0</td>\n",
       "    </tr>\n",
       "    <tr>\n",
       "      <th>2</th>\n",
       "      <td>2016-11-03</td>\n",
       "      <td>1563.0</td>\n",
       "      <td>3255.0</td>\n",
       "      <td>1.38</td>\n",
       "      <td>3.0</td>\n",
       "      <td>1408.0</td>\n",
       "      <td>32.0</td>\n",
       "      <td>0.0</td>\n",
       "      <td>0.0</td>\n",
       "      <td>96.0</td>\n",
       "    </tr>\n",
       "  </tbody>\n",
       "</table>\n",
       "</div>"
      ],
      "text/plain": [
       "         Date  Calories Burned   Steps  Distance  Floors  Minutes Sedentary  \\\n",
       "0  2016-11-01           1563.0  2991.0      1.27     7.0             1440.0   \n",
       "1  2016-11-02           1690.0  4022.0      1.70     4.0             1440.0   \n",
       "2  2016-11-03           1563.0  3255.0      1.38     3.0             1408.0   \n",
       "\n",
       "   Minutes Lightly Active  Minutes Fairly Active  Minutes Very Active  \\\n",
       "0                     0.0                    0.0                  0.0   \n",
       "1                     0.0                    0.0                  0.0   \n",
       "2                    32.0                    0.0                  0.0   \n",
       "\n",
       "   Activity Calories  \n",
       "0                0.0  \n",
       "1                0.0  \n",
       "2               96.0  "
      ]
     },
     "execution_count": 18,
     "metadata": {},
     "output_type": "execute_result"
    }
   ],
   "source": [
    "fitbit_df = pd.read_csv('data/fitbit_export_2016.csv', thousands=',') # Handle commas as thousands separator\n",
    "fitbit_df.head(3)"
   ]
  },
  {
   "cell_type": "code",
   "execution_count": 19,
   "metadata": {
    "collapsed": false
   },
   "outputs": [
    {
     "data": {
      "text/html": [
       "<div>\n",
       "<table border=\"1\" class=\"dataframe\">\n",
       "  <thead>\n",
       "    <tr style=\"text-align: right;\">\n",
       "      <th></th>\n",
       "      <th>Calories Burned</th>\n",
       "      <th>Steps</th>\n",
       "      <th>Distance</th>\n",
       "      <th>Floors</th>\n",
       "      <th>Minutes Sedentary</th>\n",
       "      <th>Minutes Lightly Active</th>\n",
       "      <th>Minutes Fairly Active</th>\n",
       "      <th>Minutes Very Active</th>\n",
       "      <th>Activity Calories</th>\n",
       "    </tr>\n",
       "    <tr>\n",
       "      <th>Date</th>\n",
       "      <th></th>\n",
       "      <th></th>\n",
       "      <th></th>\n",
       "      <th></th>\n",
       "      <th></th>\n",
       "      <th></th>\n",
       "      <th></th>\n",
       "      <th></th>\n",
       "      <th></th>\n",
       "    </tr>\n",
       "  </thead>\n",
       "  <tbody>\n",
       "    <tr>\n",
       "      <th>2016-08-01</th>\n",
       "      <td>1705.0</td>\n",
       "      <td>5592.0</td>\n",
       "      <td>2.37</td>\n",
       "      <td>4.0</td>\n",
       "      <td>1303.0</td>\n",
       "      <td>118.0</td>\n",
       "      <td>17.0</td>\n",
       "      <td>2.0</td>\n",
       "      <td>488.0</td>\n",
       "    </tr>\n",
       "    <tr>\n",
       "      <th>2016-08-02</th>\n",
       "      <td>1499.0</td>\n",
       "      <td>2260.0</td>\n",
       "      <td>0.96</td>\n",
       "      <td>2.0</td>\n",
       "      <td>888.0</td>\n",
       "      <td>78.0</td>\n",
       "      <td>0.0</td>\n",
       "      <td>0.0</td>\n",
       "      <td>220.0</td>\n",
       "    </tr>\n",
       "    <tr>\n",
       "      <th>2016-08-03</th>\n",
       "      <td>1721.0</td>\n",
       "      <td>4495.0</td>\n",
       "      <td>1.90</td>\n",
       "      <td>4.0</td>\n",
       "      <td>979.0</td>\n",
       "      <td>102.0</td>\n",
       "      <td>27.0</td>\n",
       "      <td>8.0</td>\n",
       "      <td>501.0</td>\n",
       "    </tr>\n",
       "  </tbody>\n",
       "</table>\n",
       "</div>"
      ],
      "text/plain": [
       "            Calories Burned   Steps  Distance  Floors  Minutes Sedentary  \\\n",
       "Date                                                                       \n",
       "2016-08-01           1705.0  5592.0      2.37     4.0             1303.0   \n",
       "2016-08-02           1499.0  2260.0      0.96     2.0              888.0   \n",
       "2016-08-03           1721.0  4495.0      1.90     4.0              979.0   \n",
       "\n",
       "            Minutes Lightly Active  Minutes Fairly Active  \\\n",
       "Date                                                        \n",
       "2016-08-01                   118.0                   17.0   \n",
       "2016-08-02                    78.0                    0.0   \n",
       "2016-08-03                   102.0                   27.0   \n",
       "\n",
       "            Minutes Very Active  Activity Calories  \n",
       "Date                                                \n",
       "2016-08-01                  2.0              488.0  \n",
       "2016-08-02                  0.0              220.0  \n",
       "2016-08-03                  8.0              501.0  "
      ]
     },
     "execution_count": 19,
     "metadata": {},
     "output_type": "execute_result"
    }
   ],
   "source": [
    "fitbit_df.dropna(inplace=True)\n",
    "fitbit_df['Date'] = fitbit_df['Date'].astype('datetime64[ns]')\n",
    "fitbit_df.set_index('Date', inplace=True)\n",
    "fitbit_df.sort_index(inplace=True)\n",
    "fitbit_df.dropna(inplace=True)\n",
    "fitbit_df.head(3)"
   ]
  },
  {
   "cell_type": "code",
   "execution_count": 20,
   "metadata": {
    "collapsed": false,
    "scrolled": false
   },
   "outputs": [
    {
     "data": {
      "text/html": [
       "<div>\n",
       "<table border=\"1\" class=\"dataframe\">\n",
       "  <thead>\n",
       "    <tr style=\"text-align: right;\">\n",
       "      <th></th>\n",
       "      <th>Calories Burned</th>\n",
       "      <th>Steps</th>\n",
       "      <th>Distance</th>\n",
       "      <th>Floors</th>\n",
       "      <th>Minutes Sedentary</th>\n",
       "      <th>Minutes Lightly Active</th>\n",
       "      <th>Minutes Fairly Active</th>\n",
       "      <th>Minutes Very Active</th>\n",
       "      <th>Activity Calories</th>\n",
       "    </tr>\n",
       "  </thead>\n",
       "  <tbody>\n",
       "    <tr>\n",
       "      <th>count</th>\n",
       "      <td>153.000000</td>\n",
       "      <td>153.000000</td>\n",
       "      <td>153.000000</td>\n",
       "      <td>153.000000</td>\n",
       "      <td>153.000000</td>\n",
       "      <td>153.000000</td>\n",
       "      <td>153.000000</td>\n",
       "      <td>153.000000</td>\n",
       "      <td>153.000000</td>\n",
       "    </tr>\n",
       "    <tr>\n",
       "      <th>mean</th>\n",
       "      <td>1519.196078</td>\n",
       "      <td>2677.666667</td>\n",
       "      <td>1.149739</td>\n",
       "      <td>3.888889</td>\n",
       "      <td>1397.901961</td>\n",
       "      <td>29.300654</td>\n",
       "      <td>2.333333</td>\n",
       "      <td>1.529412</td>\n",
       "      <td>115.692810</td>\n",
       "    </tr>\n",
       "    <tr>\n",
       "      <th>std</th>\n",
       "      <td>202.894322</td>\n",
       "      <td>2992.734628</td>\n",
       "      <td>1.293591</td>\n",
       "      <td>6.878222</td>\n",
       "      <td>82.986585</td>\n",
       "      <td>45.507964</td>\n",
       "      <td>6.682656</td>\n",
       "      <td>6.152726</td>\n",
       "      <td>182.679554</td>\n",
       "    </tr>\n",
       "    <tr>\n",
       "      <th>min</th>\n",
       "      <td>1314.000000</td>\n",
       "      <td>0.000000</td>\n",
       "      <td>0.000000</td>\n",
       "      <td>0.000000</td>\n",
       "      <td>888.000000</td>\n",
       "      <td>0.000000</td>\n",
       "      <td>0.000000</td>\n",
       "      <td>0.000000</td>\n",
       "      <td>0.000000</td>\n",
       "    </tr>\n",
       "    <tr>\n",
       "      <th>25%</th>\n",
       "      <td>1321.000000</td>\n",
       "      <td>0.000000</td>\n",
       "      <td>0.000000</td>\n",
       "      <td>0.000000</td>\n",
       "      <td>1369.000000</td>\n",
       "      <td>0.000000</td>\n",
       "      <td>0.000000</td>\n",
       "      <td>0.000000</td>\n",
       "      <td>0.000000</td>\n",
       "    </tr>\n",
       "    <tr>\n",
       "      <th>50%</th>\n",
       "      <td>1524.000000</td>\n",
       "      <td>2657.000000</td>\n",
       "      <td>1.130000</td>\n",
       "      <td>2.000000</td>\n",
       "      <td>1440.000000</td>\n",
       "      <td>0.000000</td>\n",
       "      <td>0.000000</td>\n",
       "      <td>0.000000</td>\n",
       "      <td>0.000000</td>\n",
       "    </tr>\n",
       "    <tr>\n",
       "      <th>75%</th>\n",
       "      <td>1657.000000</td>\n",
       "      <td>4154.000000</td>\n",
       "      <td>1.760000</td>\n",
       "      <td>5.000000</td>\n",
       "      <td>1440.000000</td>\n",
       "      <td>64.000000</td>\n",
       "      <td>0.000000</td>\n",
       "      <td>0.000000</td>\n",
       "      <td>220.000000</td>\n",
       "    </tr>\n",
       "    <tr>\n",
       "      <th>max</th>\n",
       "      <td>2430.000000</td>\n",
       "      <td>21312.000000</td>\n",
       "      <td>9.030000</td>\n",
       "      <td>62.000000</td>\n",
       "      <td>1440.000000</td>\n",
       "      <td>168.000000</td>\n",
       "      <td>44.000000</td>\n",
       "      <td>53.000000</td>\n",
       "      <td>717.000000</td>\n",
       "    </tr>\n",
       "  </tbody>\n",
       "</table>\n",
       "</div>"
      ],
      "text/plain": [
       "       Calories Burned         Steps    Distance      Floors  \\\n",
       "count       153.000000    153.000000  153.000000  153.000000   \n",
       "mean       1519.196078   2677.666667    1.149739    3.888889   \n",
       "std         202.894322   2992.734628    1.293591    6.878222   \n",
       "min        1314.000000      0.000000    0.000000    0.000000   \n",
       "25%        1321.000000      0.000000    0.000000    0.000000   \n",
       "50%        1524.000000   2657.000000    1.130000    2.000000   \n",
       "75%        1657.000000   4154.000000    1.760000    5.000000   \n",
       "max        2430.000000  21312.000000    9.030000   62.000000   \n",
       "\n",
       "       Minutes Sedentary  Minutes Lightly Active  Minutes Fairly Active  \\\n",
       "count         153.000000              153.000000             153.000000   \n",
       "mean         1397.901961               29.300654               2.333333   \n",
       "std            82.986585               45.507964               6.682656   \n",
       "min           888.000000                0.000000               0.000000   \n",
       "25%          1369.000000                0.000000               0.000000   \n",
       "50%          1440.000000                0.000000               0.000000   \n",
       "75%          1440.000000               64.000000               0.000000   \n",
       "max          1440.000000              168.000000              44.000000   \n",
       "\n",
       "       Minutes Very Active  Activity Calories  \n",
       "count           153.000000         153.000000  \n",
       "mean              1.529412         115.692810  \n",
       "std               6.152726         182.679554  \n",
       "min               0.000000           0.000000  \n",
       "25%               0.000000           0.000000  \n",
       "50%               0.000000           0.000000  \n",
       "75%               0.000000         220.000000  \n",
       "max              53.000000         717.000000  "
      ]
     },
     "execution_count": 20,
     "metadata": {},
     "output_type": "execute_result"
    }
   ],
   "source": [
    "fitbit_df.describe()"
   ]
  },
  {
   "cell_type": "code",
   "execution_count": 21,
   "metadata": {
    "collapsed": false
   },
   "outputs": [
    {
     "data": {
      "text/plain": [
       "<matplotlib.axes._subplots.AxesSubplot at 0x45052bf240>"
      ]
     },
     "execution_count": 21,
     "metadata": {},
     "output_type": "execute_result"
    },
    {
     "data": {
      "image/png": "[encoded data removed]",
      "text/plain": [
       "<matplotlib.figure.Figure at 0x4505117438>"
      ]
     },
     "metadata": {},
     "output_type": "display_data"
    },
    {
     "data": {
      "image/png": "[encoded data removed]",
      "text/plain": [
       "<matplotlib.figure.Figure at 0x450526ee10>"
      ]
     },
     "metadata": {},
     "output_type": "display_data"
    },
    {
     "data": {
      "image/png": "[encoded data removed]",
      "text/plain": [
       "<matplotlib.figure.Figure at 0x4505301ac8>"
      ]
     },
     "metadata": {},
     "output_type": "display_data"
    }
   ],
   "source": [
    "fitbit_df.plot(fitbit_df.index, 'Steps')\n",
    "fitbit_df.plot(fitbit_df.index, 'Floors')\n",
    "fitbit_df.plot(fitbit_df.index, 'Calories Burned')"
   ]
  },
  {
   "cell_type": "code",
   "execution_count": 22,
   "metadata": {
    "collapsed": false
   },
   "outputs": [
    {
     "data": {
      "text/html": [
       "<div>\n",
       "<table border=\"1\" class=\"dataframe\">\n",
       "  <thead>\n",
       "    <tr style=\"text-align: right;\">\n",
       "      <th></th>\n",
       "      <th>Calories Burned</th>\n",
       "      <th>Steps</th>\n",
       "      <th>Distance</th>\n",
       "      <th>Floors</th>\n",
       "      <th>Minutes Sedentary</th>\n",
       "      <th>Minutes Lightly Active</th>\n",
       "      <th>Minutes Fairly Active</th>\n",
       "      <th>Minutes Very Active</th>\n",
       "      <th>Activity Calories</th>\n",
       "    </tr>\n",
       "  </thead>\n",
       "  <tbody>\n",
       "    <tr>\n",
       "      <th>August</th>\n",
       "      <td>1598.258065</td>\n",
       "      <td>3599.354839</td>\n",
       "      <td>1.529355</td>\n",
       "      <td>4.580645</td>\n",
       "      <td>1370.354839</td>\n",
       "      <td>27.516129</td>\n",
       "      <td>1.612903</td>\n",
       "      <td>0.322581</td>\n",
       "      <td>96.516129</td>\n",
       "    </tr>\n",
       "    <tr>\n",
       "      <th>September</th>\n",
       "      <td>1527.500000</td>\n",
       "      <td>3017.033333</td>\n",
       "      <td>1.338667</td>\n",
       "      <td>3.766667</td>\n",
       "      <td>1395.366667</td>\n",
       "      <td>37.400000</td>\n",
       "      <td>2.200000</td>\n",
       "      <td>5.033333</td>\n",
       "      <td>167.133333</td>\n",
       "    </tr>\n",
       "    <tr>\n",
       "      <th>October</th>\n",
       "      <td>1502.548387</td>\n",
       "      <td>2357.483871</td>\n",
       "      <td>1.004194</td>\n",
       "      <td>3.516129</td>\n",
       "      <td>1398.129032</td>\n",
       "      <td>33.870968</td>\n",
       "      <td>3.258065</td>\n",
       "      <td>0.838710</td>\n",
       "      <td>130.354839</td>\n",
       "    </tr>\n",
       "    <tr>\n",
       "      <th>November</th>\n",
       "      <td>1536.200000</td>\n",
       "      <td>2808.866667</td>\n",
       "      <td>1.196333</td>\n",
       "      <td>4.800000</td>\n",
       "      <td>1418.133333</td>\n",
       "      <td>19.400000</td>\n",
       "      <td>1.700000</td>\n",
       "      <td>0.766667</td>\n",
       "      <td>76.233333</td>\n",
       "    </tr>\n",
       "    <tr>\n",
       "      <th>December</th>\n",
       "      <td>1432.290323</td>\n",
       "      <td>1620.774194</td>\n",
       "      <td>0.687742</td>\n",
       "      <td>2.806452</td>\n",
       "      <td>1408.096774</td>\n",
       "      <td>28.258065</td>\n",
       "      <td>2.870968</td>\n",
       "      <td>0.774194</td>\n",
       "      <td>108.612903</td>\n",
       "    </tr>\n",
       "  </tbody>\n",
       "</table>\n",
       "</div>"
      ],
      "text/plain": [
       "           Calories Burned        Steps  Distance    Floors  \\\n",
       "August         1598.258065  3599.354839  1.529355  4.580645   \n",
       "September      1527.500000  3017.033333  1.338667  3.766667   \n",
       "October        1502.548387  2357.483871  1.004194  3.516129   \n",
       "November       1536.200000  2808.866667  1.196333  4.800000   \n",
       "December       1432.290323  1620.774194  0.687742  2.806452   \n",
       "\n",
       "           Minutes Sedentary  Minutes Lightly Active  Minutes Fairly Active  \\\n",
       "August           1370.354839               27.516129               1.612903   \n",
       "September        1395.366667               37.400000               2.200000   \n",
       "October          1398.129032               33.870968               3.258065   \n",
       "November         1418.133333               19.400000               1.700000   \n",
       "December         1408.096774               28.258065               2.870968   \n",
       "\n",
       "           Minutes Very Active  Activity Calories  \n",
       "August                0.322581          96.516129  \n",
       "September             5.033333         167.133333  \n",
       "October               0.838710         130.354839  \n",
       "November              0.766667          76.233333  \n",
       "December              0.774194         108.612903  "
      ]
     },
     "execution_count": 22,
     "metadata": {},
     "output_type": "execute_result"
    }
   ],
   "source": [
    "fitbit_by_month = fitbit_df.groupby(fitbit_df.index.month).mean()\n",
    "fitbit_by_month.rename(index=lambda x: datetime.datetime.strptime(str(x), '%m').strftime('%B'), inplace=True)\n",
    "fitbit_by_month"
   ]
  },
  {
   "cell_type": "code",
   "execution_count": 23,
   "metadata": {
    "collapsed": false
   },
   "outputs": [
    {
     "data": {
      "text/plain": [
       "<matplotlib.axes._subplots.AxesSubplot at 0x45053df908>"
      ]
     },
     "execution_count": 23,
     "metadata": {},
     "output_type": "execute_result"
    },
    {
     "data": {
      "image/png": "[encoded data removed]",
      "text/plain": [
       "<matplotlib.figure.Figure at 0x45051d7cc0>"
      ]
     },
     "metadata": {},
     "output_type": "display_data"
    }
   ],
   "source": [
    "fitbit_by_month.Steps.plot(kind='bar')"
   ]
  },
  {
   "cell_type": "code",
   "execution_count": 24,
   "metadata": {
    "collapsed": false
   },
   "outputs": [
    {
     "data": {
      "text/plain": [
       "<matplotlib.axes._subplots.AxesSubplot at 0x4505402358>"
      ]
     },
     "execution_count": 24,
     "metadata": {},
     "output_type": "execute_result"
    },
    {
     "data": {
      "image/png": "[encoded data removed]",
      "text/plain": [
       "<matplotlib.figure.Figure at 0x450544c7b8>"
      ]
     },
     "metadata": {},
     "output_type": "display_data"
    }
   ],
   "source": [
    "fitbit_by_month.Distance.plot(kind='bar')"
   ]
  },
  {
   "cell_type": "code",
   "execution_count": 25,
   "metadata": {
    "collapsed": false
   },
   "outputs": [
    {
     "data": {
      "text/plain": [
       "<matplotlib.axes._subplots.AxesSubplot at 0x45054783c8>"
      ]
     },
     "execution_count": 25,
     "metadata": {},
     "output_type": "execute_result"
    },
    {
     "data": {
      "image/png": "[encoded data removed]",
      "text/plain": [
       "<matplotlib.figure.Figure at 0x45054cccc0>"
      ]
     },
     "metadata": {},
     "output_type": "display_data"
    }
   ],
   "source": [
    "fitbit_by_month['Calories Burned'].plot(kind='bar')"
   ]
  },
  {
   "cell_type": "code",
   "execution_count": 26,
   "metadata": {
    "collapsed": false,
    "scrolled": true
   },
   "outputs": [
    {
     "data": {
      "text/html": [
       "<div>\n",
       "<table border=\"1\" class=\"dataframe\">\n",
       "  <thead>\n",
       "    <tr style=\"text-align: right;\">\n",
       "      <th></th>\n",
       "      <th>Calories Burned</th>\n",
       "      <th>Steps</th>\n",
       "      <th>Distance</th>\n",
       "      <th>Floors</th>\n",
       "      <th>Minutes Sedentary</th>\n",
       "      <th>Minutes Lightly Active</th>\n",
       "      <th>Minutes Fairly Active</th>\n",
       "      <th>Minutes Very Active</th>\n",
       "      <th>Activity Calories</th>\n",
       "    </tr>\n",
       "  </thead>\n",
       "  <tbody>\n",
       "    <tr>\n",
       "      <th>Monday</th>\n",
       "      <td>1562.136364</td>\n",
       "      <td>2804.090909</td>\n",
       "      <td>1.192273</td>\n",
       "      <td>4.090909</td>\n",
       "      <td>1387.681818</td>\n",
       "      <td>45.454545</td>\n",
       "      <td>3.681818</td>\n",
       "      <td>1.227273</td>\n",
       "      <td>169.772727</td>\n",
       "    </tr>\n",
       "    <tr>\n",
       "      <th>Tuesday</th>\n",
       "      <td>1505.318182</td>\n",
       "      <td>2680.136364</td>\n",
       "      <td>1.171818</td>\n",
       "      <td>3.045455</td>\n",
       "      <td>1380.818182</td>\n",
       "      <td>33.818182</td>\n",
       "      <td>2.136364</td>\n",
       "      <td>1.681818</td>\n",
       "      <td>131.090909</td>\n",
       "    </tr>\n",
       "    <tr>\n",
       "      <th>Wednesday</th>\n",
       "      <td>1649.318182</td>\n",
       "      <td>4476.454545</td>\n",
       "      <td>1.902273</td>\n",
       "      <td>4.409091</td>\n",
       "      <td>1342.954545</td>\n",
       "      <td>49.636364</td>\n",
       "      <td>6.818182</td>\n",
       "      <td>1.954545</td>\n",
       "      <td>205.681818</td>\n",
       "    </tr>\n",
       "    <tr>\n",
       "      <th>Thursday</th>\n",
       "      <td>1479.272727</td>\n",
       "      <td>2223.090909</td>\n",
       "      <td>0.944545</td>\n",
       "      <td>4.227273</td>\n",
       "      <td>1414.863636</td>\n",
       "      <td>24.181818</td>\n",
       "      <td>0.727273</td>\n",
       "      <td>0.227273</td>\n",
       "      <td>84.636364</td>\n",
       "    </tr>\n",
       "    <tr>\n",
       "      <th>Friday</th>\n",
       "      <td>1572.590909</td>\n",
       "      <td>3626.636364</td>\n",
       "      <td>1.550909</td>\n",
       "      <td>7.772727</td>\n",
       "      <td>1408.045455</td>\n",
       "      <td>27.818182</td>\n",
       "      <td>1.727273</td>\n",
       "      <td>2.409091</td>\n",
       "      <td>111.909091</td>\n",
       "    </tr>\n",
       "  </tbody>\n",
       "</table>\n",
       "</div>"
      ],
      "text/plain": [
       "           Calories Burned        Steps  Distance    Floors  \\\n",
       "Monday         1562.136364  2804.090909  1.192273  4.090909   \n",
       "Tuesday        1505.318182  2680.136364  1.171818  3.045455   \n",
       "Wednesday      1649.318182  4476.454545  1.902273  4.409091   \n",
       "Thursday       1479.272727  2223.090909  0.944545  4.227273   \n",
       "Friday         1572.590909  3626.636364  1.550909  7.772727   \n",
       "\n",
       "           Minutes Sedentary  Minutes Lightly Active  Minutes Fairly Active  \\\n",
       "Monday           1387.681818               45.454545               3.681818   \n",
       "Tuesday          1380.818182               33.818182               2.136364   \n",
       "Wednesday        1342.954545               49.636364               6.818182   \n",
       "Thursday         1414.863636               24.181818               0.727273   \n",
       "Friday           1408.045455               27.818182               1.727273   \n",
       "\n",
       "           Minutes Very Active  Activity Calories  \n",
       "Monday                1.227273         169.772727  \n",
       "Tuesday               1.681818         131.090909  \n",
       "Wednesday             1.954545         205.681818  \n",
       "Thursday              0.227273          84.636364  \n",
       "Friday                2.409091         111.909091  "
      ]
     },
     "execution_count": 26,
     "metadata": {},
     "output_type": "execute_result"
    }
   ],
   "source": [
    "fitbit_by_day = fitbit_df.groupby(fitbit_df.index.dayofweek + 1).mean() # Add 1 to account for dayofweek starting from 0\n",
    "fitbit_by_day.rename(index=lambda x: datetime.datetime.strptime(str(x), '%d').strftime('%A'), inplace=True)\n",
    "fitbit_by_day.head()"
   ]
  },
  {
   "cell_type": "code",
   "execution_count": 27,
   "metadata": {
    "collapsed": false,
    "scrolled": true
   },
   "outputs": [
    {
     "data": {
      "text/plain": [
       "<matplotlib.axes._subplots.AxesSubplot at 0x45054c0ba8>"
      ]
     },
     "execution_count": 27,
     "metadata": {},
     "output_type": "execute_result"
    },
    {
     "data": {
      "image/png": "[encoded data removed]",
      "text/plain": [
       "<matplotlib.figure.Figure at 0x450553ac18>"
      ]
     },
     "metadata": {},
     "output_type": "display_data"
    }
   ],
   "source": [
    "fitbit_by_day.Steps.plot(kind='bar')"
   ]
  },
  {
   "cell_type": "code",
   "execution_count": 28,
   "metadata": {
    "collapsed": false
   },
   "outputs": [
    {
     "data": {
      "text/plain": [
       "<matplotlib.axes._subplots.AxesSubplot at 0x45055c03c8>"
      ]
     },
     "execution_count": 28,
     "metadata": {},
     "output_type": "execute_result"
    },
    {
     "data": {
      "image/png": "[encoded data removed]",
      "text/plain": [
       "<matplotlib.figure.Figure at 0x45055cadd8>"
      ]
     },
     "metadata": {},
     "output_type": "display_data"
    }
   ],
   "source": [
    "fitbit_by_day.Distance.plot(kind='bar')"
   ]
  },
  {
   "cell_type": "code",
   "execution_count": 29,
   "metadata": {
    "collapsed": false
   },
   "outputs": [
    {
     "data": {
      "text/plain": [
       "<matplotlib.axes._subplots.AxesSubplot at 0x45055f0e80>"
      ]
     },
     "execution_count": 29,
     "metadata": {},
     "output_type": "execute_result"
    },
    {
     "data": {
      "image/png": "[encoded data removed]",
      "text/plain": [
       "<matplotlib.figure.Figure at 0x450564c2b0>"
      ]
     },
     "metadata": {},
     "output_type": "display_data"
    }
   ],
   "source": [
    "fitbit_by_day['Calories Burned'].plot(kind='bar')"
   ]
  },
  {
   "cell_type": "code",
   "execution_count": null,
   "metadata": {
    "collapsed": true
   },
   "outputs": [],
   "source": []
  }
 ],
 "metadata": {
  "kernelspec": {
   "display_name": "Python 3",
   "language": "python",
   "name": "python3"
  },
  "language_info": {
   "codemirror_mode": {
    "name": "ipython",
    "version": 3
   },
   "file_extension": ".py",
   "mimetype": "text/x-python",
   "name": "python",
   "nbconvert_exporter": "python",
   "pygments_lexer": "ipython3",
   "version": "3.5.1"
  }
 },
 "nbformat": 4,
 "nbformat_minor": 2
}
